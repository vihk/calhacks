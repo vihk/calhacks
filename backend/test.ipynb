{
 "cells": [
  {
   "cell_type": "code",
   "execution_count": 70,
   "metadata": {},
   "outputs": [
    {
     "name": "stdout",
     "output_type": "stream",
     "text": [
      "Job(id=\"0eb953ca-7694-4432-882f-20ebbd63f80c\")\n",
      "Running...\n",
      "Predictions downloaded to predictions.json\n",
      "Artifacts downloaded to artifacts.zip\n",
      "[{'source': {'type': 'url', 'url': 'https://tmpfiles.org/dl/2979437/untitled.mp3'}, 'results': {'predictions': [{'file': 'untitled.mp3', 'file_type': 'audio', 'models': {'prosody': {'metadata': {'confidence': 0.9868164, 'detected_language': 'en'}, 'grouped_predictions': [{'id': 'unknown', 'predictions': [{'text': 'Hello?', 'time': {'begin': 0.07924729999999996, 'end': 0.79838706}, 'confidence': 0.9970703, 'speaker_confidence': None, 'emotions': [{'name': 'Admiration', 'score': 0.03272364288568497}, {'name': 'Adoration', 'score': 0.03242945671081543}, {'name': 'Aesthetic Appreciation', 'score': 0.029946791008114815}, {'name': 'Amusement', 'score': 0.11723615974187851}, {'name': 'Anger', 'score': 0.04068536311388016}, {'name': 'Anxiety', 'score': 0.039799097925424576}, {'name': 'Awe', 'score': 0.025780988857150078}, {'name': 'Awkwardness', 'score': 0.11456294357776642}, {'name': 'Boredom', 'score': 0.14184153079986572}, {'name': 'Calmness', 'score': 0.20069587230682373}, {'name': 'Concentration', 'score': 0.025955267250537872}, {'name': 'Confusion', 'score': 0.06788970530033112}, {'name': 'Contemplation', 'score': 0.01335112378001213}, {'name': 'Contempt', 'score': 0.02773025445640087}, {'name': 'Contentment', 'score': 0.04739312082529068}, {'name': 'Craving', 'score': 0.010680116713047028}, {'name': 'Desire', 'score': 0.019283166155219078}, {'name': 'Determination', 'score': 0.055291783064603806}, {'name': 'Disappointment', 'score': 0.05035850778222084}, {'name': 'Disgust', 'score': 0.023358657956123352}, {'name': 'Distress', 'score': 0.05198344215750694}, {'name': 'Doubt', 'score': 0.03498583287000656}, {'name': 'Ecstasy', 'score': 0.022257201373577118}, {'name': 'Embarrassment', 'score': 0.0259635541588068}, {'name': 'Empathic Pain', 'score': 0.022990640252828598}, {'name': 'Entrancement', 'score': 0.01510416530072689}, {'name': 'Envy', 'score': 0.017665324732661247}, {'name': 'Excitement', 'score': 0.0884845182299614}, {'name': 'Fear', 'score': 0.036704402416944504}, {'name': 'Guilt', 'score': 0.023860888555645943}, {'name': 'Horror', 'score': 0.019037706777453423}, {'name': 'Interest', 'score': 0.15188480913639069}, {'name': 'Joy', 'score': 0.10693718492984772}, {'name': 'Love', 'score': 0.025114307180047035}, {'name': 'Nostalgia', 'score': 0.0059578451327979565}, {'name': 'Pain', 'score': 0.031067021191120148}, {'name': 'Pride', 'score': 0.016187531873583794}, {'name': 'Realization', 'score': 0.0513385608792305}, {'name': 'Relief', 'score': 0.041945140808820724}, {'name': 'Romance', 'score': 0.014471281319856644}, {'name': 'Sadness', 'score': 0.06778404861688614}, {'name': 'Satisfaction', 'score': 0.04468813166022301}, {'name': 'Shame', 'score': 0.021170539781451225}, {'name': 'Surprise (negative)', 'score': 0.04221095144748688}, {'name': 'Surprise (positive)', 'score': 0.08827973902225494}, {'name': 'Sympathy', 'score': 0.015445016324520111}, {'name': 'Tiredness', 'score': 0.03708697855472565}, {'name': 'Triumph', 'score': 0.015958532691001892}]}, {'text': \"I'm Marian. Yeah. Today, I had a really, really, really terrible day. I wanna cry\", 'time': {'begin': 1.2760215000000001, 'end': 7.021613}, 'confidence': None, 'speaker_confidence': None, 'emotions': [{'name': 'Admiration', 'score': 0.06767860800027847}, {'name': 'Adoration', 'score': 0.03600465506315231}, {'name': 'Aesthetic Appreciation', 'score': 0.01771598309278488}, {'name': 'Amusement', 'score': 0.029263678938150406}, {'name': 'Anger', 'score': 0.001221587066538632}, {'name': 'Anxiety', 'score': 0.039686109870672226}, {'name': 'Awe', 'score': 0.006734147667884827}, {'name': 'Awkwardness', 'score': 0.06645596027374268}, {'name': 'Boredom', 'score': 0.03488518297672272}, {'name': 'Calmness', 'score': 0.14068755507469177}, {'name': 'Concentration', 'score': 0.025045493617653847}, {'name': 'Confusion', 'score': 0.004204573575407267}, {'name': 'Contemplation', 'score': 0.034914858639240265}, {'name': 'Contempt', 'score': 0.006482415832579136}, {'name': 'Contentment', 'score': 0.026014436036348343}, {'name': 'Craving', 'score': 0.02397618070244789}, {'name': 'Desire', 'score': 0.013908952474594116}, {'name': 'Determination', 'score': 0.029181763529777527}, {'name': 'Disappointment', 'score': 0.14943020045757294}, {'name': 'Disgust', 'score': 0.010874180123209953}, {'name': 'Distress', 'score': 0.12855207920074463}, {'name': 'Doubt', 'score': 0.005090169608592987}, {'name': 'Ecstasy', 'score': 0.008178003132343292}, {'name': 'Embarrassment', 'score': 0.03674422204494476}, {'name': 'Empathic Pain', 'score': 0.08004897087812424}, {'name': 'Entrancement', 'score': 0.006718517281115055}, {'name': 'Envy', 'score': 0.03366363048553467}, {'name': 'Excitement', 'score': 0.07223549485206604}, {'name': 'Fear', 'score': 0.002424618462100625}, {'name': 'Guilt', 'score': 0.1757003515958786}, {'name': 'Horror', 'score': 0.001565464772284031}, {'name': 'Interest', 'score': 0.21073800325393677}, {'name': 'Joy', 'score': 0.04233558103442192}, {'name': 'Love', 'score': 0.033518850803375244}, {'name': 'Nostalgia', 'score': 0.005665325094014406}, {'name': 'Pain', 'score': 0.07476365566253662}, {'name': 'Pride', 'score': 0.07964557409286499}, {'name': 'Realization', 'score': 0.05567392706871033}, {'name': 'Relief', 'score': 0.004176105372607708}, {'name': 'Romance', 'score': 0.015035725198686123}, {'name': 'Sadness', 'score': 0.21181707084178925}, {'name': 'Satisfaction', 'score': 0.023121684789657593}, {'name': 'Shame', 'score': 0.0877964198589325}, {'name': 'Surprise (negative)', 'score': 0.007076485548168421}, {'name': 'Surprise (positive)', 'score': 0.06330198794603348}, {'name': 'Sympathy', 'score': 0.0541955940425396}, {'name': 'Tiredness', 'score': 0.054531507194042206}, {'name': 'Triumph', 'score': 0.019939586520195007}]}, {'text': \"so much and So depressed, but I'm so happy at the same time. Yay. I might kill myself. I'm\", 'time': {'begin': 6.621613, 'end': 13.483042999999999}, 'confidence': None, 'speaker_confidence': None, 'emotions': [{'name': 'Admiration', 'score': 0.02985815890133381}, {'name': 'Adoration', 'score': 0.018191523849964142}, {'name': 'Aesthetic Appreciation', 'score': 0.005102348979562521}, {'name': 'Amusement', 'score': 0.10124604403972626}, {'name': 'Anger', 'score': 0.04851570725440979}, {'name': 'Anxiety', 'score': 0.08026716858148575}, {'name': 'Awe', 'score': 0.0035605193115770817}, {'name': 'Awkwardness', 'score': 0.04828956723213196}, {'name': 'Boredom', 'score': 0.013915725983679295}, {'name': 'Calmness', 'score': 0.02527160570025444}, {'name': 'Concentration', 'score': 0.009514977224171162}, {'name': 'Confusion', 'score': 0.02103872410953045}, {'name': 'Contemplation', 'score': 0.06177373230457306}, {'name': 'Contempt', 'score': 0.05945589765906334}, {'name': 'Contentment', 'score': 0.0218745656311512}, {'name': 'Craving', 'score': 0.017379019409418106}, {'name': 'Desire', 'score': 0.005819483660161495}, {'name': 'Determination', 'score': 0.029528051614761353}, {'name': 'Disappointment', 'score': 0.16588300466537476}, {'name': 'Disgust', 'score': 0.02683231234550476}, {'name': 'Distress', 'score': 0.11290673166513443}, {'name': 'Doubt', 'score': 0.030050048604607582}, {'name': 'Ecstasy', 'score': 0.03300275653600693}, {'name': 'Embarrassment', 'score': 0.04527278244495392}, {'name': 'Empathic Pain', 'score': 0.05550900101661682}, {'name': 'Entrancement', 'score': 0.0025060991756618023}, {'name': 'Envy', 'score': 0.03610830008983612}, {'name': 'Excitement', 'score': 0.14741480350494385}, {'name': 'Fear', 'score': 0.0253553818911314}, {'name': 'Guilt', 'score': 0.10259492695331573}, {'name': 'Horror', 'score': 0.007893538102507591}, {'name': 'Interest', 'score': 0.007828782312572002}, {'name': 'Joy', 'score': 0.08712892234325409}, {'name': 'Love', 'score': 0.01747642084956169}, {'name': 'Nostalgia', 'score': 0.079594686627388}, {'name': 'Pain', 'score': 0.055780939757823944}, {'name': 'Pride', 'score': 0.02524358592927456}, {'name': 'Realization', 'score': 0.07320351898670197}, {'name': 'Relief', 'score': 0.026224765926599503}, {'name': 'Romance', 'score': 0.008007030934095383}, {'name': 'Sadness', 'score': 0.30025210976600647}, {'name': 'Satisfaction', 'score': 0.02907056175172329}, {'name': 'Shame', 'score': 0.11847599595785141}, {'name': 'Surprise (negative)', 'score': 0.020153336226940155}, {'name': 'Surprise (positive)', 'score': 0.020348910242319107}, {'name': 'Sympathy', 'score': 0.041342947632074356}, {'name': 'Tiredness', 'score': 0.1111498773097992}, {'name': 'Triumph', 'score': 0.0304966252297163}]}, {'text': 'my die again.', 'time': {'begin': 13.083043, 'end': 14.199129999999998}, 'confidence': None, 'speaker_confidence': None, 'emotions': [{'name': 'Admiration', 'score': 0.01652131974697113}, {'name': 'Adoration', 'score': 0.01539628952741623}, {'name': 'Aesthetic Appreciation', 'score': 0.012393212877213955}, {'name': 'Amusement', 'score': 0.04804670438170433}, {'name': 'Anger', 'score': 0.05468406900763512}, {'name': 'Anxiety', 'score': 0.057620543986558914}, {'name': 'Awe', 'score': 0.01958834007382393}, {'name': 'Awkwardness', 'score': 0.03680406138300896}, {'name': 'Boredom', 'score': 0.08260723948478699}, {'name': 'Calmness', 'score': 0.1246388703584671}, {'name': 'Concentration', 'score': 0.07654650509357452}, {'name': 'Confusion', 'score': 0.05487905070185661}, {'name': 'Contemplation', 'score': 0.07927261292934418}, {'name': 'Contempt', 'score': 0.028115103021264076}, {'name': 'Contentment', 'score': 0.03188000246882439}, {'name': 'Craving', 'score': 0.02040012925863266}, {'name': 'Desire', 'score': 0.02091049961745739}, {'name': 'Determination', 'score': 0.27094051241874695}, {'name': 'Disappointment', 'score': 0.04481511935591698}, {'name': 'Disgust', 'score': 0.018907031044363976}, {'name': 'Distress', 'score': 0.06379745900630951}, {'name': 'Doubt', 'score': 0.045151904225349426}, {'name': 'Ecstasy', 'score': 0.016152551397681236}, {'name': 'Embarrassment', 'score': 0.011053902097046375}, {'name': 'Empathic Pain', 'score': 0.01336626522243023}, {'name': 'Entrancement', 'score': 0.01906927488744259}, {'name': 'Envy', 'score': 0.02033827267587185}, {'name': 'Excitement', 'score': 0.07203751057386398}, {'name': 'Fear', 'score': 0.04767048358917236}, {'name': 'Guilt', 'score': 0.014986268244683743}, {'name': 'Horror', 'score': 0.014860011637210846}, {'name': 'Interest', 'score': 0.0565301738679409}, {'name': 'Joy', 'score': 0.037017446011304855}, {'name': 'Love', 'score': 0.023723652586340904}, {'name': 'Nostalgia', 'score': 0.010331697762012482}, {'name': 'Pain', 'score': 0.022701527923345566}, {'name': 'Pride', 'score': 0.030851012095808983}, {'name': 'Realization', 'score': 0.10076569765806198}, {'name': 'Relief', 'score': 0.0528487004339695}, {'name': 'Romance', 'score': 0.02746804803609848}, {'name': 'Sadness', 'score': 0.06034771353006363}, {'name': 'Satisfaction', 'score': 0.03881000727415085}, {'name': 'Shame', 'score': 0.021353574469685555}, {'name': 'Surprise (negative)', 'score': 0.028954533860087395}, {'name': 'Surprise (positive)', 'score': 0.03324706852436066}, {'name': 'Sympathy', 'score': 0.0101541792973876}, {'name': 'Tiredness', 'score': 0.03460048511624336}, {'name': 'Triumph', 'score': 0.03150348737835884}]}]}]}}}], 'errors': []}}]\n"
     ]
    }
   ],
   "source": [
    "#!/venv/bin/python\n",
    "from hume import HumeBatchClient\n",
    "from hume.models.config import FaceConfig\n",
    "from hume.models.config import ProsodyConfig\n",
    "import pandas as pd\n",
    "import numpy as np\n",
    "import json \n",
    "\n",
    "client = HumeBatchClient(\"GB5GR8utyBkDmLHy5Kh7mtAGGebtMK5R9nDVhn7p5u7FMcT2\")\n",
    "urls = [\"https://tmpfiles.org/dl/2979437/untitled.mp3\"]\n",
    "configs = [ProsodyConfig(identify_speakers = True)]\n",
    "job = client.submit_job(urls, configs)\n",
    "\n",
    "print(job)\n",
    "print(\"Running...\")\n",
    "\n",
    "job.await_complete()\n",
    "job.download_predictions(\"predictions.json\")\n",
    "print(\"Predictions downloaded to predictions.json\")\n",
    "\n",
    "job.download_artifacts(\"artifacts.zip\")\n",
    "print(\"Artifacts downloaded to artifacts.zip\")\n",
    "\n",
    "with open('/Users/gill/Documents/GitHub/calhacks/backend/predictions.json', 'r') as f:\n",
    "    # Load the contents of the file into a variable\n",
    "    data = json.load(f)\n",
    "\n",
    "# Print the contents of the variable\n",
    "print(data)\n"
   ]
  },
  {
   "cell_type": "code",
   "execution_count": 71,
   "metadata": {},
   "outputs": [
    {
     "name": "stdout",
     "output_type": "stream",
     "text": [
      "                                                text\n",
      "0                                             Hello?\n",
      "1  I'm Marian. Yeah. Today, I had a really, reall...\n",
      "2  so much and So depressed, but I'm so happy at ...\n",
      "3                                      my die again.\n"
     ]
    }
   ],
   "source": [
    "# Extract predictions\n",
    "predictions = data[0]['results']['predictions'][0]['models']['prosody']['grouped_predictions'][0]['predictions']\n",
    "\n",
    "# Flatten to get just the predicted text\n",
    "texts = []\n",
    "for pred in predictions:\n",
    "    texts.append(pred['text'])\n",
    "\n",
    "df = pd.DataFrame({'text': texts})\n",
    "\n",
    "print(df)"
   ]
  },
  {
   "cell_type": "code",
   "execution_count": 72,
   "metadata": {},
   "outputs": [
    {
     "name": "stdout",
     "output_type": "stream",
     "text": [
      "              Text  Time_Begin   Time_End            Emotion_Name  \\\n",
      "0           Hello?    0.079247   0.798387              Admiration   \n",
      "1           Hello?    0.079247   0.798387               Adoration   \n",
      "2           Hello?    0.079247   0.798387  Aesthetic Appreciation   \n",
      "3           Hello?    0.079247   0.798387               Amusement   \n",
      "4           Hello?    0.079247   0.798387                   Anger   \n",
      "..             ...         ...        ...                     ...   \n",
      "187  my die again.   13.083043  14.199130     Surprise (negative)   \n",
      "188  my die again.   13.083043  14.199130     Surprise (positive)   \n",
      "189  my die again.   13.083043  14.199130                Sympathy   \n",
      "190  my die again.   13.083043  14.199130               Tiredness   \n",
      "191  my die again.   13.083043  14.199130                 Triumph   \n",
      "\n",
      "     Emotion_Score  \n",
      "0         0.032724  \n",
      "1         0.032429  \n",
      "2         0.029947  \n",
      "3         0.117236  \n",
      "4         0.040685  \n",
      "..             ...  \n",
      "187       0.028955  \n",
      "188       0.033247  \n",
      "189       0.010154  \n",
      "190       0.034600  \n",
      "191       0.031503  \n",
      "\n",
      "[192 rows x 5 columns]\n"
     ]
    }
   ],
   "source": [
    "flattened_data = []\n",
    "for item in data:\n",
    "    for prediction in item['results']['predictions'][0]['models']['prosody']['grouped_predictions']:\n",
    "        for text_prediction in prediction['predictions']:\n",
    "            for emotion in text_prediction['emotions']:\n",
    "                flattened_data.append({\n",
    "                    'Text': text_prediction['text'],\n",
    "                    'Time_Begin': text_prediction['time']['begin'],\n",
    "                    'Time_End': text_prediction['time']['end'],\n",
    "                    'Emotion_Name': emotion['name'],\n",
    "                    'Emotion_Score': emotion['score']\n",
    "                })\n",
    "\n",
    "# Create a Pandas DataFrame\n",
    "df = pd.DataFrame(flattened_data)\n",
    "\n",
    "# Display the DataFrame\n",
    "print(df)"
   ]
  },
  {
   "cell_type": "code",
   "execution_count": 102,
   "metadata": {},
   "outputs": [
    {
     "name": "stdout",
     "output_type": "stream",
     "text": [
      "Text: Hello?\n",
      "Text: I'm Marian. Yeah. Today, I had a really, really, really terrible day. I wanna cry\n",
      "Text: my die again.\n",
      "Text: so much and So depressed, but I'm so happy at the same time. Yay. I might kill myself. I'm\n"
     ]
    }
   ],
   "source": [
    "grouped_df = df.groupby('Text')\n",
    "\n",
    "# Display the grouped DataFrame\n",
    "groups = []\n",
    "texts = []\n",
    "for name, group in grouped_df:\n",
    "    print(f\"Text: {name}\")\n",
    "    group = group.sort_values(by=\"Emotion_Score\",ascending=False) \n",
    "    group = group[group[\"Emotion_Score\"].apply(float) > .10]\n",
    "    groups.append(group)\n",
    "    texts.append(name)"
   ]
  },
  {
   "cell_type": "code",
   "execution_count": 103,
   "metadata": {},
   "outputs": [
    {
     "data": {
      "text/plain": [
       "[      Text  Time_Begin  Time_End Emotion_Name  Emotion_Score\n",
       " 9   Hello?    0.079247  0.798387     Calmness       0.200696\n",
       " 31  Hello?    0.079247  0.798387     Interest       0.151885\n",
       " 8   Hello?    0.079247  0.798387      Boredom       0.141842\n",
       " 3   Hello?    0.079247  0.798387    Amusement       0.117236\n",
       " 7   Hello?    0.079247  0.798387  Awkwardness       0.114563\n",
       " 32  Hello?    0.079247  0.798387          Joy       0.106937,\n",
       "                                                  Text  Time_Begin  Time_End  \\\n",
       " 88  I'm Marian. Yeah. Today, I had a really, reall...    1.276022  7.021613   \n",
       " 79  I'm Marian. Yeah. Today, I had a really, reall...    1.276022  7.021613   \n",
       " 77  I'm Marian. Yeah. Today, I had a really, reall...    1.276022  7.021613   \n",
       " 66  I'm Marian. Yeah. Today, I had a really, reall...    1.276022  7.021613   \n",
       " 57  I'm Marian. Yeah. Today, I had a really, reall...    1.276022  7.021613   \n",
       " 68  I'm Marian. Yeah. Today, I had a really, reall...    1.276022  7.021613   \n",
       " \n",
       "       Emotion_Name  Emotion_Score  \n",
       " 88         Sadness       0.211817  \n",
       " 79        Interest       0.210738  \n",
       " 77           Guilt       0.175700  \n",
       " 66  Disappointment       0.149430  \n",
       " 57        Calmness       0.140688  \n",
       " 68        Distress       0.128552  ,\n",
       "               Text  Time_Begin  Time_End   Emotion_Name  Emotion_Score\n",
       " 161  my die again.   13.083043  14.19913  Determination       0.270941\n",
       " 153  my die again.   13.083043  14.19913       Calmness       0.124639\n",
       " 181  my die again.   13.083043  14.19913    Realization       0.100766,\n",
       "                                                   Text  Time_Begin   Time_End  \\\n",
       " 136  so much and So depressed, but I'm so happy at ...    6.621613  13.483043   \n",
       " 114  so much and So depressed, but I'm so happy at ...    6.621613  13.483043   \n",
       " 123  so much and So depressed, but I'm so happy at ...    6.621613  13.483043   \n",
       " 138  so much and So depressed, but I'm so happy at ...    6.621613  13.483043   \n",
       " 116  so much and So depressed, but I'm so happy at ...    6.621613  13.483043   \n",
       " 142  so much and So depressed, but I'm so happy at ...    6.621613  13.483043   \n",
       " 125  so much and So depressed, but I'm so happy at ...    6.621613  13.483043   \n",
       " 99   so much and So depressed, but I'm so happy at ...    6.621613  13.483043   \n",
       " \n",
       "        Emotion_Name  Emotion_Score  \n",
       " 136         Sadness       0.300252  \n",
       " 114  Disappointment       0.165883  \n",
       " 123      Excitement       0.147415  \n",
       " 138           Shame       0.118476  \n",
       " 116        Distress       0.112907  \n",
       " 142       Tiredness       0.111150  \n",
       " 125           Guilt       0.102595  \n",
       " 99        Amusement       0.101246  ]"
      ]
     },
     "execution_count": 103,
     "metadata": {},
     "output_type": "execute_result"
    }
   ],
   "source": [
    "groups\n",
    "td"
   ]
  },
  {
   "cell_type": "code",
   "execution_count": null,
   "metadata": {},
   "outputs": [],
   "source": []
  },
  {
   "cell_type": "code",
   "execution_count": null,
   "metadata": {},
   "outputs": [],
   "source": []
  }
 ],
 "metadata": {
  "kernelspec": {
   "display_name": "Python 3",
   "language": "python",
   "name": "python3"
  },
  "language_info": {
   "codemirror_mode": {
    "name": "ipython",
    "version": 3
   },
   "file_extension": ".py",
   "mimetype": "text/x-python",
   "name": "python",
   "nbconvert_exporter": "python",
   "pygments_lexer": "ipython3",
   "version": "3.11.6"
  }
 },
 "nbformat": 4,
 "nbformat_minor": 2
}
