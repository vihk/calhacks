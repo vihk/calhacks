{
 "cells": [
  {
   "cell_type": "code",
   "execution_count": 14,
   "metadata": {},
   "outputs": [
    {
     "name": "stdout",
     "output_type": "stream",
     "text": [
      "Job(id=\"e6c3196b-9f03-48f5-9f00-2733b7a00068\")\n",
      "Running...\n",
      "Predictions downloaded to predictions.json\n",
      "Artifacts downloaded to artifacts.zip\n",
      "[{'source': {'type': 'url', 'url': 'https://storage.googleapis.com/hume-test-data/video/armisen-clip.mp4'}, 'results': {'predictions': [{'file': 'armisen-clip.mp4', 'file_type': 'video_no_audio', 'models': {'prosody': {'metadata': {'confidence': 0.73583984, 'detected_language': 'en'}, 'grouped_predictions': [{'id': 'unknown', 'predictions': [{'text': 'A talk down any invitations', 'time': {'begin': 0.0, 'end': 2.18}, 'confidence': 0.70766604, 'speaker_confidence': None, 'emotions': [{'name': 'Admiration', 'score': 0.059178274124860764}, {'name': 'Adoration', 'score': 0.04490788280963898}, {'name': 'Aesthetic Appreciation', 'score': 0.023199710994958878}, {'name': 'Amusement', 'score': 0.3629228174686432}, {'name': 'Anger', 'score': 0.013151883147656918}, {'name': 'Anxiety', 'score': 0.013414605520665646}, {'name': 'Awe', 'score': 0.02520785480737686}, {'name': 'Awkwardness', 'score': 0.027943367138504982}, {'name': 'Boredom', 'score': 0.038755688816308975}, {'name': 'Calmness', 'score': 0.104410819709301}, {'name': 'Concentration', 'score': 0.14960569143295288}, {'name': 'Confusion', 'score': 0.010483994148671627}, {'name': 'Contemplation', 'score': 0.027852503582835197}, {'name': 'Contempt', 'score': 0.02511558309197426}, {'name': 'Contentment', 'score': 0.06987953186035156}, {'name': 'Craving', 'score': 0.014207704924046993}, {'name': 'Desire', 'score': 0.01735815405845642}, {'name': 'Determination', 'score': 0.2737347483634949}, {'name': 'Disappointment', 'score': 0.005686688236892223}, {'name': 'Disgust', 'score': 0.006066106725484133}, {'name': 'Distress', 'score': 0.007268116809427738}, {'name': 'Doubt', 'score': 0.006431005895137787}, {'name': 'Ecstasy', 'score': 0.07813462615013123}, {'name': 'Embarrassment', 'score': 0.007444198243319988}, {'name': 'Empathic Pain', 'score': 0.001348808640614152}, {'name': 'Entrancement', 'score': 0.020591046661138535}, {'name': 'Envy', 'score': 0.0028700674884021282}, {'name': 'Excitement', 'score': 0.37350064516067505}, {'name': 'Fear', 'score': 0.006672713905572891}, {'name': 'Guilt', 'score': 0.0024577428121119738}, {'name': 'Horror', 'score': 0.003666373435407877}, {'name': 'Interest', 'score': 0.2713213562965393}, {'name': 'Joy', 'score': 0.34585994482040405}, {'name': 'Love', 'score': 0.017717357724905014}, {'name': 'Nostalgia', 'score': 0.010993225499987602}, {'name': 'Pain', 'score': 0.0017534783110022545}, {'name': 'Pride', 'score': 0.11558214575052261}, {'name': 'Realization', 'score': 0.017983509227633476}, {'name': 'Relief', 'score': 0.05206947401165962}, {'name': 'Romance', 'score': 0.006543608382344246}, {'name': 'Sadness', 'score': 0.003077857429161668}, {'name': 'Satisfaction', 'score': 0.2441013753414154}, {'name': 'Shame', 'score': 0.0028174417093396187}, {'name': 'Surprise (negative)', 'score': 0.003074551932513714}, {'name': 'Surprise (positive)', 'score': 0.051544707268476486}, {'name': 'Sympathy', 'score': 0.004657587502151728}, {'name': 'Tiredness', 'score': 0.007028450258076191}, {'name': 'Triumph', 'score': 0.10451919585466385}]}]}]}}}], 'errors': []}}]\n"
     ]
    }
   ],
   "source": [
    "#!/venv/bin/python\n",
    "from hume import HumeBatchClient\n",
    "from hume.models.config import FaceConfig\n",
    "from hume.models.config import ProsodyConfig\n",
    "import pandas as pd\n",
    "import numpy as np\n",
    "import json \n",
    "\n",
    "client = HumeBatchClient(\"GB5GR8utyBkDmLHy5Kh7mtAGGebtMK5R9nDVhn7p5u7FMcT2\")\n",
    "urls = [\"https://storage.googleapis.com/hume-test-data/video/armisen-clip.mp4\"]\n",
    "configs = [ProsodyConfig(identify_speakers = True)]\n",
    "job = client.submit_job(urls, configs)\n",
    "\n",
    "print(job)\n",
    "print(\"Running...\")\n",
    "\n",
    "job.await_complete()\n",
    "job.download_predictions(\"predictions.json\")\n",
    "print(\"Predictions downloaded to predictions.json\")\n",
    "\n",
    "job.download_artifacts(\"artifacts.zip\")\n",
    "print(\"Artifacts downloaded to artifacts.zip\")\n",
    "\n",
    "with open('/Users/gill/Documents/GitHub/calhacks/backend/predictions.json', 'r') as f:\n",
    "    # Load the contents of the file into a variable\n",
    "    data = json.load(f)\n",
    "\n",
    "# Print the contents of the variable\n",
    "print(data)\n"
   ]
  },
  {
   "cell_type": "code",
   "execution_count": 15,
   "metadata": {},
   "outputs": [
    {
     "name": "stdout",
     "output_type": "stream",
     "text": [
      "                          text\n",
      "0  A talk down any invitations\n"
     ]
    }
   ],
   "source": [
    "# Extract predictions\n",
    "predictions = data[0]['results']['predictions'][0]['models']['prosody']['grouped_predictions'][0]['predictions']\n",
    "\n",
    "# Flatten to get just the predicted text\n",
    "texts = []\n",
    "for pred in predictions:\n",
    "    texts.append(pred['text'])\n",
    "\n",
    "df = pd.DataFrame({'text': texts})\n",
    "\n",
    "print(df)"
   ]
  },
  {
   "cell_type": "code",
   "execution_count": 16,
   "metadata": {},
   "outputs": [
    {
     "name": "stdout",
     "output_type": "stream",
     "text": [
      "                           Text  Time_Begin  Time_End            Emotion_Name  \\\n",
      "0   A talk down any invitations         0.0      2.18              Admiration   \n",
      "1   A talk down any invitations         0.0      2.18               Adoration   \n",
      "2   A talk down any invitations         0.0      2.18  Aesthetic Appreciation   \n",
      "3   A talk down any invitations         0.0      2.18               Amusement   \n",
      "4   A talk down any invitations         0.0      2.18                   Anger   \n",
      "5   A talk down any invitations         0.0      2.18                 Anxiety   \n",
      "6   A talk down any invitations         0.0      2.18                     Awe   \n",
      "7   A talk down any invitations         0.0      2.18             Awkwardness   \n",
      "8   A talk down any invitations         0.0      2.18                 Boredom   \n",
      "9   A talk down any invitations         0.0      2.18                Calmness   \n",
      "10  A talk down any invitations         0.0      2.18           Concentration   \n",
      "11  A talk down any invitations         0.0      2.18               Confusion   \n",
      "12  A talk down any invitations         0.0      2.18           Contemplation   \n",
      "13  A talk down any invitations         0.0      2.18                Contempt   \n",
      "14  A talk down any invitations         0.0      2.18             Contentment   \n",
      "15  A talk down any invitations         0.0      2.18                 Craving   \n",
      "16  A talk down any invitations         0.0      2.18                  Desire   \n",
      "17  A talk down any invitations         0.0      2.18           Determination   \n",
      "18  A talk down any invitations         0.0      2.18          Disappointment   \n",
      "19  A talk down any invitations         0.0      2.18                 Disgust   \n",
      "20  A talk down any invitations         0.0      2.18                Distress   \n",
      "21  A talk down any invitations         0.0      2.18                   Doubt   \n",
      "22  A talk down any invitations         0.0      2.18                 Ecstasy   \n",
      "23  A talk down any invitations         0.0      2.18           Embarrassment   \n",
      "24  A talk down any invitations         0.0      2.18           Empathic Pain   \n",
      "25  A talk down any invitations         0.0      2.18            Entrancement   \n",
      "26  A talk down any invitations         0.0      2.18                    Envy   \n",
      "27  A talk down any invitations         0.0      2.18              Excitement   \n",
      "28  A talk down any invitations         0.0      2.18                    Fear   \n",
      "29  A talk down any invitations         0.0      2.18                   Guilt   \n",
      "30  A talk down any invitations         0.0      2.18                  Horror   \n",
      "31  A talk down any invitations         0.0      2.18                Interest   \n",
      "32  A talk down any invitations         0.0      2.18                     Joy   \n",
      "33  A talk down any invitations         0.0      2.18                    Love   \n",
      "34  A talk down any invitations         0.0      2.18               Nostalgia   \n",
      "35  A talk down any invitations         0.0      2.18                    Pain   \n",
      "36  A talk down any invitations         0.0      2.18                   Pride   \n",
      "37  A talk down any invitations         0.0      2.18             Realization   \n",
      "38  A talk down any invitations         0.0      2.18                  Relief   \n",
      "39  A talk down any invitations         0.0      2.18                 Romance   \n",
      "40  A talk down any invitations         0.0      2.18                 Sadness   \n",
      "41  A talk down any invitations         0.0      2.18            Satisfaction   \n",
      "42  A talk down any invitations         0.0      2.18                   Shame   \n",
      "43  A talk down any invitations         0.0      2.18     Surprise (negative)   \n",
      "44  A talk down any invitations         0.0      2.18     Surprise (positive)   \n",
      "45  A talk down any invitations         0.0      2.18                Sympathy   \n",
      "46  A talk down any invitations         0.0      2.18               Tiredness   \n",
      "47  A talk down any invitations         0.0      2.18                 Triumph   \n",
      "\n",
      "    Emotion_Score  \n",
      "0        0.059178  \n",
      "1        0.044908  \n",
      "2        0.023200  \n",
      "3        0.362923  \n",
      "4        0.013152  \n",
      "5        0.013415  \n",
      "6        0.025208  \n",
      "7        0.027943  \n",
      "8        0.038756  \n",
      "9        0.104411  \n",
      "10       0.149606  \n",
      "11       0.010484  \n",
      "12       0.027853  \n",
      "13       0.025116  \n",
      "14       0.069880  \n",
      "15       0.014208  \n",
      "16       0.017358  \n",
      "17       0.273735  \n",
      "18       0.005687  \n",
      "19       0.006066  \n",
      "20       0.007268  \n",
      "21       0.006431  \n",
      "22       0.078135  \n",
      "23       0.007444  \n",
      "24       0.001349  \n",
      "25       0.020591  \n",
      "26       0.002870  \n",
      "27       0.373501  \n",
      "28       0.006673  \n",
      "29       0.002458  \n",
      "30       0.003666  \n",
      "31       0.271321  \n",
      "32       0.345860  \n",
      "33       0.017717  \n",
      "34       0.010993  \n",
      "35       0.001753  \n",
      "36       0.115582  \n",
      "37       0.017984  \n",
      "38       0.052069  \n",
      "39       0.006544  \n",
      "40       0.003078  \n",
      "41       0.244101  \n",
      "42       0.002817  \n",
      "43       0.003075  \n",
      "44       0.051545  \n",
      "45       0.004658  \n",
      "46       0.007028  \n",
      "47       0.104519  \n"
     ]
    }
   ],
   "source": [
    "flattened_data = []\n",
    "for item in data:\n",
    "    for prediction in item['results']['predictions'][0]['models']['prosody']['grouped_predictions']:\n",
    "        for text_prediction in prediction['predictions']:\n",
    "            for emotion in text_prediction['emotions']:\n",
    "                flattened_data.append({\n",
    "                    'Text': text_prediction['text'],\n",
    "                    'Time_Begin': text_prediction['time']['begin'],\n",
    "                    'Time_End': text_prediction['time']['end'],\n",
    "                    'Emotion_Name': emotion['name'],\n",
    "                    'Emotion_Score': emotion['score']\n",
    "                })\n",
    "\n",
    "# Create a Pandas DataFrame\n",
    "df = pd.DataFrame(flattened_data)\n",
    "\n",
    "# Display the DataFrame\n",
    "print(df)"
   ]
  },
  {
   "cell_type": "code",
   "execution_count": 17,
   "metadata": {},
   "outputs": [
    {
     "name": "stdout",
     "output_type": "stream",
     "text": [
      "Text: A talk down any invitations\n"
     ]
    }
   ],
   "source": [
    "grouped_df = df.groupby('Text')\n",
    "\n",
    "# Display the grouped DataFrame\n",
    "groups = []\n",
    "texts = []\n",
    "for name, group in grouped_df:\n",
    "    print(f\"Text: {name}\")\n",
    "    group = group.sort_values(by=\"Emotion_Score\",ascending=False) \n",
    "    group = group[group[\"Emotion_Score\"].apply(float) > .10]\n",
    "    groups.append(group.reset_index(drop=True))\n",
    "    texts.append(name)"
   ]
  },
  {
   "cell_type": "code",
   "execution_count": 18,
   "metadata": {},
   "outputs": [],
   "source": [
    "send_data = {}\n",
    "for i,text in enumerate(texts):\n",
    "    df_json = groups[i].to_json()\n",
    "    send_data[text] = json.loads(df_json)\n",
    "json_data = json.dumps(send_data)\n"
   ]
  },
  {
   "cell_type": "code",
   "execution_count": 19,
   "metadata": {},
   "outputs": [
    {
     "data": {
      "text/plain": [
       "'{\"A talk down any invitations\": {\"Text\": {\"0\": \"A talk down any invitations\", \"1\": \"A talk down any invitations\", \"2\": \"A talk down any invitations\", \"3\": \"A talk down any invitations\", \"4\": \"A talk down any invitations\", \"5\": \"A talk down any invitations\", \"6\": \"A talk down any invitations\", \"7\": \"A talk down any invitations\", \"8\": \"A talk down any invitations\", \"9\": \"A talk down any invitations\"}, \"Time_Begin\": {\"0\": 0.0, \"1\": 0.0, \"2\": 0.0, \"3\": 0.0, \"4\": 0.0, \"5\": 0.0, \"6\": 0.0, \"7\": 0.0, \"8\": 0.0, \"9\": 0.0}, \"Time_End\": {\"0\": 2.18, \"1\": 2.18, \"2\": 2.18, \"3\": 2.18, \"4\": 2.18, \"5\": 2.18, \"6\": 2.18, \"7\": 2.18, \"8\": 2.18, \"9\": 2.18}, \"Emotion_Name\": {\"0\": \"Excitement\", \"1\": \"Amusement\", \"2\": \"Joy\", \"3\": \"Determination\", \"4\": \"Interest\", \"5\": \"Satisfaction\", \"6\": \"Concentration\", \"7\": \"Pride\", \"8\": \"Triumph\", \"9\": \"Calmness\"}, \"Emotion_Score\": {\"0\": 0.3735006452, \"1\": 0.3629228175, \"2\": 0.3458599448, \"3\": 0.2737347484, \"4\": 0.2713213563, \"5\": 0.2441013753, \"6\": 0.1496056914, \"7\": 0.1155821458, \"8\": 0.1045191959, \"9\": 0.1044108197}}}'"
      ]
     },
     "execution_count": 19,
     "metadata": {},
     "output_type": "execute_result"
    }
   ],
   "source": [
    "json_data"
   ]
  },
  {
   "cell_type": "code",
   "execution_count": 20,
   "metadata": {},
   "outputs": [],
   "source": [
    "newdict = {}\n",
    "while texts != []:\n",
    "    if len(texts) == 1:\n",
    "        newdict[texts[0]] = groups[0]\n",
    "        texts = []\n",
    "    else:\n",
    "        newdict[texts[0]] = groups[0]\n",
    "        groups = groups[1:]\n",
    "        texts = texts[1:]\n"
   ]
  },
  {
   "cell_type": "code",
   "execution_count": 30,
   "metadata": {},
   "outputs": [
    {
     "name": "stdout",
     "output_type": "stream",
     "text": [
      "                                      Text  Time_Begin  Time_End  \\\n",
      "Emotion_Name                                                       \n",
      "Excitement     A talk down any invitations         0.0      2.18   \n",
      "Amusement      A talk down any invitations         0.0      2.18   \n",
      "Joy            A talk down any invitations         0.0      2.18   \n",
      "Determination  A talk down any invitations         0.0      2.18   \n",
      "Interest       A talk down any invitations         0.0      2.18   \n",
      "Satisfaction   A talk down any invitations         0.0      2.18   \n",
      "Concentration  A talk down any invitations         0.0      2.18   \n",
      "Pride          A talk down any invitations         0.0      2.18   \n",
      "Triumph        A talk down any invitations         0.0      2.18   \n",
      "Calmness       A talk down any invitations         0.0      2.18   \n",
      "\n",
      "               Emotion_Score  \n",
      "Emotion_Name                  \n",
      "Excitement          0.373501  \n",
      "Amusement           0.362923  \n",
      "Joy                 0.345860  \n",
      "Determination       0.273735  \n",
      "Interest            0.271321  \n",
      "Satisfaction        0.244101  \n",
      "Concentration       0.149606  \n",
      "Pride               0.115582  \n",
      "Triumph             0.104519  \n",
      "Calmness            0.104411  \n"
     ]
    }
   ],
   "source": [
    "newdict[\"A talk down any invitations\"]\n",
    "scoredict = {}\n",
    "\n",
    "newdf = newdict[\"A talk down any invitations\"].set_index('Emotion_Name')\n",
    "newnewdf = newdf['Emotion_Score'].to_dict()\n",
    "\n",
    "\n",
    "for key in newdict.keys():\n",
    "    appendscore = {}\n",
    "    newdicts = newdict[key].set_index(\"Emotion_Name\")\n",
    "    scoredict[key] = newdicts['Emotion_Score'].to_dict()\n",
    "\n",
    "\n",
    "\n",
    "# for every element in the dictionary\n",
    "    # we're going to make a dictionary that contains all emotion/emotion_score key/value pairs\n",
    "    # append it to anotehr dicitonary that has key dick \n",
    "\n"
   ]
  },
  {
   "cell_type": "code",
   "execution_count": 23,
   "metadata": {},
   "outputs": [],
   "source": [
    "newdf = newdict[\"A talk down any invitations\"].set_index('Emotion_Name')\n",
    "newnewdf = newdf['Emotion_Score'].to_dict()"
   ]
  },
  {
   "cell_type": "code",
   "execution_count": 29,
   "metadata": {},
   "outputs": [
    {
     "data": {
      "text/plain": [
       "{'Excitement': 0.37350064516067505,\n",
       " 'Amusement': 0.3629228174686432,\n",
       " 'Joy': 0.34585994482040405,\n",
       " 'Determination': 0.2737347483634949,\n",
       " 'Interest': 0.2713213562965393,\n",
       " 'Satisfaction': 0.2441013753414154,\n",
       " 'Concentration': 0.14960569143295288,\n",
       " 'Pride': 0.11558214575052261,\n",
       " 'Triumph': 0.10451919585466385,\n",
       " 'Calmness': 0.104410819709301}"
      ]
     },
     "execution_count": 29,
     "metadata": {},
     "output_type": "execute_result"
    }
   ],
   "source": [
    "newnewdf"
   ]
  },
  {
   "cell_type": "code",
   "execution_count": null,
   "metadata": {},
   "outputs": [],
   "source": []
  },
  {
   "cell_type": "code",
   "execution_count": null,
   "metadata": {},
   "outputs": [],
   "source": []
  },
  {
   "cell_type": "code",
   "execution_count": null,
   "metadata": {},
   "outputs": [],
   "source": []
  },
  {
   "cell_type": "code",
   "execution_count": null,
   "metadata": {},
   "outputs": [],
   "source": []
  }
 ],
 "metadata": {
  "kernelspec": {
   "display_name": "Python 3",
   "language": "python",
   "name": "python3"
  },
  "language_info": {
   "codemirror_mode": {
    "name": "ipython",
    "version": 3
   },
   "file_extension": ".py",
   "mimetype": "text/x-python",
   "name": "python",
   "nbconvert_exporter": "python",
   "pygments_lexer": "ipython3",
   "version": "3.11.6"
  }
 },
 "nbformat": 4,
 "nbformat_minor": 2
}
